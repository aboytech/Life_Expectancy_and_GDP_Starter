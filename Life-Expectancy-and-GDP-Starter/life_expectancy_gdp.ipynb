{
 "cells": [
  {
   "cell_type": "markdown",
   "metadata": {},
   "source": [
    "# Life Expectancy and GDP\n",
    "\n",
    "*A dataset from World Health Organization and the World Bank.*"
   ]
  },
  {
   "cell_type": "code",
   "execution_count": 1,
   "metadata": {},
   "outputs": [
    {
     "name": "stdout",
     "output_type": "stream",
     "text": [
      "<class 'pandas.core.frame.DataFrame'>\n",
      "RangeIndex: 96 entries, 0 to 95\n",
      "Data columns (total 4 columns):\n",
      " #   Column           Non-Null Count  Dtype  \n",
      "---  ------           --------------  -----  \n",
      " 0   country          96 non-null     object \n",
      " 1   year             96 non-null     int64  \n",
      " 2   life_expectancy  96 non-null     float64\n",
      " 3   gdp              96 non-null     float64\n",
      "dtypes: float64(2), int64(1), object(1)\n",
      "memory usage: 3.1+ KB\n",
      "None\n",
      "  country  year  life_expectancy           gdp\n",
      "0   Chile  2000             77.3  7.786093e+10\n",
      "1   Chile  2001             77.3  7.097992e+10\n",
      "2   Chile  2002             77.8  6.973681e+10\n",
      "3   Chile  2003             77.9  7.564346e+10\n",
      "4   Chile  2004             78.0  9.921039e+10\n"
     ]
    }
   ],
   "source": [
    "import pandas as pd\n",
    "import matplotlib.pyplot as plt\n",
    "import seaborn as sns\n",
    "\n",
    "# Read the dataset and rename it's columns to work easier with this data.\n",
    "df = pd.read_csv('all_data.csv')\n",
    "columns_names = {'Country': 'country', 'Year': 'year', 'Life expectancy at birth (years)': 'life_expectancy', 'GDP': 'gdp'}\n",
    "df.rename(columns = columns_names, inplace = True)\n",
    "print(df.info())\n",
    "print(df.head())"
   ]
  },
  {
   "cell_type": "code",
   "execution_count": 2,
   "metadata": {},
   "outputs": [
    {
     "name": "stdout",
     "output_type": "stream",
     "text": [
      "country values: ['Chile' 'China' 'Germany' 'Mexico' 'United States of America' 'Zimbabwe']\n",
      "year values: [2000 2001 2002 2003 2004 2005 2006 2007 2008 2009 2010 2011 2012 2013\n",
      " 2014 2015]\n",
      "life_expectancy values: [77.3 77.8 77.9 78.  78.4 78.9 79.6 79.3 79.1 79.8 79.9 80.1 80.3 80.5\n",
      " 71.7 72.2 72.7 73.1 73.5 73.9 74.2 74.4 74.5 74.9 75.  75.2 75.4 75.6\n",
      " 75.8 76.1 78.3 78.5 79.2 80.  80.6 80.9 81.  74.8 75.3 76.  75.7 76.3\n",
      " 76.6 76.7 76.8 76.9 77.  77.2 77.5 78.1 78.2 78.7 78.8 46.  45.3 44.8\n",
      " 44.5 44.3 44.6 45.4 46.6 48.2 50.  52.4 54.9 56.6 58.  59.2 60.7]\n",
      "gdp values: [7.78609322e+10 7.09799240e+10 6.97368114e+10 7.56434598e+10\n",
      " 9.92103929e+10 1.22965000e+11 1.54788000e+11 1.73606000e+11\n",
      " 1.79638000e+11 1.72389000e+11 2.18538000e+11 2.52252000e+11\n",
      " 2.67122000e+11 2.78384000e+11 2.60990000e+11 2.42518000e+11\n",
      " 1.21135000e+12 1.33940000e+12 1.47055000e+12 1.66029000e+12\n",
      " 1.95535000e+12 2.28597000e+12 2.75213000e+12 3.55218000e+12\n",
      " 4.59821000e+12 5.10995000e+12 6.10062000e+12 7.57255000e+12\n",
      " 8.56055000e+12 9.60722000e+12 1.04824000e+13 1.10647000e+13\n",
      " 1.94995000e+12 1.95065000e+12 2.07914000e+12 2.50573000e+12\n",
      " 2.81925000e+12 2.86141000e+12 3.00245000e+12 3.43995000e+12\n",
      " 3.75237000e+12 3.41801000e+12 3.41709000e+12 3.75770000e+12\n",
      " 3.54398000e+12 3.75251000e+12 3.89061000e+12 3.37561000e+12\n",
      " 6.83648000e+11 7.24704000e+11 7.41560000e+11 7.13284000e+11\n",
      " 7.70268000e+11 8.66346000e+11 9.65281000e+11 1.04347000e+12\n",
      " 1.10128000e+12 8.94949000e+11 1.05113000e+12 1.17119000e+12\n",
      " 1.18660000e+12 1.26198000e+12 1.29846000e+12 1.15226000e+12\n",
      " 1.03000000e+13 1.06000000e+13 1.10000000e+13 1.15000000e+13\n",
      " 1.23000000e+13 1.31000000e+13 1.39000000e+13 1.45000000e+13\n",
      " 1.47000000e+13 1.44000000e+13 1.50000000e+13 1.55000000e+13\n",
      " 1.62000000e+13 1.67000000e+13 1.74000000e+13 1.81000000e+13\n",
      " 6.68995760e+09 6.77738470e+09 6.34211640e+09 5.72759180e+09\n",
      " 5.80559840e+09 5.75521520e+09 5.44389650e+09 5.29195010e+09\n",
      " 4.41570280e+09 8.62157361e+09 1.01418597e+10 1.20984507e+10\n",
      " 1.42424903e+10 1.54517687e+10 1.58910492e+10 1.63046678e+10]\n"
     ]
    }
   ],
   "source": [
    "# Know the unique values that each column has and get an idea which are categorical and quantitative\n",
    "for column in df.columns:\n",
    "    print(f'{column} values: {df[column].unique()}')"
   ]
  },
  {
   "cell_type": "markdown",
   "metadata": {},
   "source": [
    "## Data Dictionary\n",
    "\n",
    "We can see that this dataset contains 4 columns:\n",
    "\n",
    "1. **Country:** contains 6 different countries *Chile, China, Germany, Mexico, United States of America and Zimbabwe*.\n",
    "2. **Year:** contains the year of measurement, going from *2000 to 2015*.\n",
    "3. **Life Expectancy at Birth (years):** contains the life expectancy for each country measured in a specific year.\n",
    "4. **GDP (Gross Domestic Product):** contains the gross domestic product for each country measured in a specific year.\n",
    "\n",
    "The total *lenght* of this dataset are **96 rows** all with *non-null* values.\n",
    "\n",
    "**Categorical Variables**\n",
    "* Country - *object*\n",
    "* Year - *int64*\n",
    "\n",
    "**Quantitative Variables**\n",
    "* Life Expectancy at Birth (years) - *float64*\n",
    "* GDP (Gross Domestic Product) - *float64*"
   ]
  }
 ],
 "metadata": {
  "kernelspec": {
   "display_name": "Python 3",
   "language": "python",
   "name": "python3"
  },
  "language_info": {
   "codemirror_mode": {
    "name": "ipython",
    "version": 3
   },
   "file_extension": ".py",
   "mimetype": "text/x-python",
   "name": "python",
   "nbconvert_exporter": "python",
   "pygments_lexer": "ipython3",
   "version": "3.12.4"
  }
 },
 "nbformat": 4,
 "nbformat_minor": 4
}
